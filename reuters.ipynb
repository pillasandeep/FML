{
  "nbformat": 4,
  "nbformat_minor": 0,
  "metadata": {
    "colab": {
      "provenance": [],
      "authorship_tag": "ABX9TyOZSds32/Ei/9LvXi0v/Len",
      "include_colab_link": true
    },
    "kernelspec": {
      "name": "python3",
      "display_name": "Python 3"
    },
    "language_info": {
      "name": "python"
    }
  },
  "cells": [
    {
      "cell_type": "markdown",
      "metadata": {
        "id": "view-in-github",
        "colab_type": "text"
      },
      "source": [
        "<a href=\"https://colab.research.google.com/github/pillasandeep/FML/blob/main/reuters.ipynb\" target=\"_parent\"><img src=\"https://colab.research.google.com/assets/colab-badge.svg\" alt=\"Open In Colab\"/></a>"
      ]
    },
    {
      "cell_type": "code",
      "execution_count": 1,
      "metadata": {
        "colab": {
          "base_uri": "https://localhost:8080/"
        },
        "id": "yD3uVXUlL6oK",
        "outputId": "ba96c220-9dd8-472a-a645-6cc0f7301428"
      },
      "outputs": [
        {
          "output_type": "stream",
          "name": "stderr",
          "text": [
            "[nltk_data] Downloading package reuters to /root/nltk_data...\n"
          ]
        },
        {
          "output_type": "execute_result",
          "data": {
            "text/plain": [
              "True"
            ]
          },
          "metadata": {},
          "execution_count": 1
        }
      ],
      "source": [
        "import nltk\n",
        "nltk.download('reuters')"
      ]
    },
    {
      "cell_type": "code",
      "source": [
        "from nltk.corpus import reuters\n",
        "from nltk import bigrams,trigrams\n",
        "from collections import Counter,defaultdict\n"
      ],
      "metadata": {
        "id": "Ea21aurVMknH"
      },
      "execution_count": 2,
      "outputs": []
    },
    {
      "cell_type": "code",
      "source": [
        "model=defaultdict(lambda: defaultdict(lambda:0))\n",
        "model"
      ],
      "metadata": {
        "colab": {
          "base_uri": "https://localhost:8080/"
        },
        "id": "KM6AmJiSNBmd",
        "outputId": "647a50fc-c28f-4545-c851-334dfa82dd84"
      },
      "execution_count": 4,
      "outputs": [
        {
          "output_type": "execute_result",
          "data": {
            "text/plain": [
              "defaultdict(<function __main__.<lambda>()>, {})"
            ]
          },
          "metadata": {},
          "execution_count": 4
        }
      ]
    },
    {
      "cell_type": "code",
      "source": [
        "nltk.download('punkt')\n",
        "for sentence in reuters.sents():\n",
        "    #print(sentence)\n",
        "    for w1, w2, w3 in trigrams(sentence, pad_right=True, pad_left=True):\n",
        "        #print(\"w1:\",w1,\"w2:\",w2,\"w3:\",w3)\n",
        "        model[(w1, w2)][w3] += 1"
      ],
      "metadata": {
        "colab": {
          "base_uri": "https://localhost:8080/"
        },
        "id": "3gEbjmz1Qewo",
        "outputId": "b290f259-c98f-4cf1-aa6b-6ed159c9c2e9"
      },
      "execution_count": 67,
      "outputs": [
        {
          "output_type": "stream",
          "name": "stderr",
          "text": [
            "[nltk_data] Downloading package punkt to /root/nltk_data...\n",
            "[nltk_data]   Package punkt is already up-to-date!\n"
          ]
        }
      ]
    },
    {
      "cell_type": "code",
      "source": [
        "for w1_w2 in model:\n",
        "  total_count=float(sum(model[w1_w2].values()))\n",
        "  for w3 in model[w1_w2]:\n",
        "    model[w1_w2][w3]/=total_count"
      ],
      "metadata": {
        "id": "q4lAP2Fucici"
      },
      "execution_count": 68,
      "outputs": []
    },
    {
      "cell_type": "code",
      "source": [
        "dict(model[\"the\",\"day\"])"
      ],
      "metadata": {
        "colab": {
          "base_uri": "https://localhost:8080/"
        },
        "id": "pCFsQQyGoiCW",
        "outputId": "bd5603ad-d708-4738-c661-5c781aa9261a"
      },
      "execution_count": 75,
      "outputs": [
        {
          "output_type": "execute_result",
          "data": {
            "text/plain": [
              "{'-': 0.05102040816326531,\n",
              " '.': 0.19387755102040816,\n",
              " 'the': 0.04081632653061224,\n",
              " 'to': 0.061224489795918366,\n",
              " 'after': 0.12244897959183673,\n",
              " ',': 0.061224489795918366,\n",
              " 'for': 0.02040816326530612,\n",
              " \"'\": 0.02040816326530612,\n",
              " 'against': 0.02040816326530612,\n",
              " 'Sun': 0.02040816326530612,\n",
              " 'in': 0.04081632653061224,\n",
              " 'trading': 0.02040816326530612,\n",
              " 'learn': 0.02040816326530612,\n",
              " 'led': 0.02040816326530612,\n",
              " 'yesterday': 0.02040816326530612,\n",
              " 'before': 0.04081632653061224,\n",
              " 'at': 0.02040816326530612,\n",
              " 'of': 0.02040816326530612,\n",
              " '.\"': 0.02040816326530612,\n",
              " 'a': 0.02040816326530612,\n",
              " 'and': 0.02040816326530612,\n",
              " 'we': 0.02040816326530612,\n",
              " 'on': 0.02040816326530612,\n",
              " 'which': 0.04081632653061224,\n",
              " 'immediately': 0.02040816326530612,\n",
              " 'it': 0.02040816326530612}"
            ]
          },
          "metadata": {},
          "execution_count": 75
        }
      ]
    },
    {
      "cell_type": "code",
      "source": [
        "dict(model[\"the\",\"price\"])"
      ],
      "metadata": {
        "colab": {
          "base_uri": "https://localhost:8080/"
        },
        "id": "W12wZPYvpLtT",
        "outputId": "689e0409-98d7-493c-8661-cc041794a924"
      },
      "execution_count": 79,
      "outputs": [
        {
          "output_type": "execute_result",
          "data": {
            "text/plain": [
              "{'yesterday': 0.00904977375565611,\n",
              " 'of': 0.3190045248868778,\n",
              " 'it': 0.06334841628959276,\n",
              " 'effect': 0.006787330316742082,\n",
              " 'cut': 0.013574660633484163,\n",
              " 'for': 0.049773755656108594,\n",
              " 'paid': 0.013574660633484163,\n",
              " 'to': 0.05429864253393665,\n",
              " 'increases': 0.013574660633484163,\n",
              " 'used': 0.004524886877828055,\n",
              " 'climate': 0.004524886877828055,\n",
              " '.': 0.02262443438914027,\n",
              " 'cuts': 0.00904977375565611,\n",
              " 'reductions': 0.004524886877828055,\n",
              " 'limit': 0.004524886877828055,\n",
              " 'now': 0.004524886877828055,\n",
              " 'moved': 0.004524886877828055,\n",
              " 'per': 0.013574660633484163,\n",
              " 'adjustments': 0.004524886877828055,\n",
              " '(': 0.00904977375565611,\n",
              " 'slumped': 0.004524886877828055,\n",
              " 'is': 0.01809954751131222,\n",
              " 'move': 0.004524886877828055,\n",
              " 'evolution': 0.004524886877828055,\n",
              " 'differentials': 0.00904977375565611,\n",
              " 'went': 0.004524886877828055,\n",
              " 'the': 0.013574660633484163,\n",
              " 'factor': 0.004524886877828055,\n",
              " 'Royal': 0.004524886877828055,\n",
              " ',': 0.01809954751131222,\n",
              " 'again': 0.004524886877828055,\n",
              " 'changes': 0.004524886877828055,\n",
              " 'holds': 0.004524886877828055,\n",
              " 'has': 0.00904977375565611,\n",
              " 'fall': 0.004524886877828055,\n",
              " '-': 0.004524886877828055,\n",
              " 'from': 0.004524886877828055,\n",
              " 'base': 0.004524886877828055,\n",
              " 'on': 0.004524886877828055,\n",
              " 'review': 0.004524886877828055,\n",
              " 'while': 0.004524886877828055,\n",
              " 'collapse': 0.004524886877828055,\n",
              " 'being': 0.004524886877828055,\n",
              " 'at': 0.02262443438914027,\n",
              " 'outlook': 0.004524886877828055,\n",
              " 'rises': 0.004524886877828055,\n",
              " 'drop': 0.004524886877828055,\n",
              " 'guaranteed': 0.004524886877828055,\n",
              " ',\"': 0.004524886877828055,\n",
              " 'stayed': 0.00904977375565611,\n",
              " 'structure': 0.004524886877828055,\n",
              " 'and': 0.004524886877828055,\n",
              " 'could': 0.004524886877828055,\n",
              " 'related': 0.004524886877828055,\n",
              " 'hike': 0.004524886877828055,\n",
              " 'we': 0.004524886877828055,\n",
              " 'adjustment': 0.02262443438914027,\n",
              " 'policy': 0.004524886877828055,\n",
              " 'was': 0.00904977375565611,\n",
              " 'revision': 0.004524886877828055,\n",
              " 'freeze': 0.00904977375565611,\n",
              " 'led': 0.004524886877828055,\n",
              " 'action': 0.004524886877828055,\n",
              " 'zone': 0.004524886877828055,\n",
              " 'slump': 0.004524886877828055,\n",
              " 'had': 0.004524886877828055,\n",
              " 'difference': 0.004524886877828055,\n",
              " 'in': 0.004524886877828055,\n",
              " 'raise': 0.004524886877828055,\n",
              " 'increase': 0.00904977375565611,\n",
              " 'will': 0.013574660633484163,\n",
              " 'support': 0.004524886877828055,\n",
              " 'gap': 0.004524886877828055,\n",
              " 'would': 0.00904977375565611,\n",
              " 'projected': 0.004524886877828055,\n",
              " 'approached': 0.004524886877828055,\n",
              " 'instability': 0.004524886877828055}"
            ]
          },
          "metadata": {},
          "execution_count": 79
        }
      ]
    }
  ]
}